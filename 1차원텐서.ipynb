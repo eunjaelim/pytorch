{
  "nbformat": 4,
  "nbformat_minor": 0,
  "metadata": {
    "colab": {
      "provenance": [],
      "authorship_tag": "ABX9TyPlTUWpTYxjMykAyTgfE/+v",
      "include_colab_link": true
    },
    "kernelspec": {
      "name": "python3",
      "display_name": "Python 3"
    },
    "language_info": {
      "name": "python"
    }
  },
  "cells": [
    {
      "cell_type": "markdown",
      "metadata": {
        "id": "view-in-github",
        "colab_type": "text"
      },
      "source": [
        "<a href=\"https://colab.research.google.com/github/eunjaelim/pytorch/blob/main/1%EC%B0%A8%EC%9B%90%ED%85%90%EC%84%9C.ipynb\" target=\"_parent\"><img src=\"https://colab.research.google.com/assets/colab-badge.svg\" alt=\"Open In Colab\"/></a>"
      ]
    },
    {
      "cell_type": "code",
      "execution_count": 15,
      "metadata": {
        "colab": {
          "base_uri": "https://localhost:8080/"
        },
        "id": "Y0C81ubZDOSP",
        "outputId": "7eeb6801-5d00-4cab-9de8-95d22b02b6f3"
      },
      "outputs": [
        {
          "output_type": "stream",
          "name": "stdout",
          "text": [
            "tensor([[0.],\n",
            "        [1.],\n",
            "        [2.],\n",
            "        [3.],\n",
            "        [4.],\n",
            "        [5.]])\n"
          ]
        }
      ],
      "source": [
        "import torch\n",
        "import numpy as np\n",
        "import pandas as pd\n",
        "\n",
        "a = torch.Tensor([0,1,2,3,4,5])\n",
        "#a_col = a.view(6,1)\n",
        "a_col = a.view(-1,1)\n",
        "print(a_col)"
      ]
    },
    {
      "cell_type": "code",
      "source": [
        "# 넘파이를 토치로 토치를 넘파이로 변환\n",
        "numpy_array = np.array([0.1,1.0,2.0,3.0,4.0])\n",
        "torch_tensor = torch.from_numpy(numpy_array)\n",
        "back_to_numpy = torch_tensor.numpy()"
      ],
      "metadata": {
        "id": "lI9TPTVYHHQu"
      },
      "execution_count": 14,
      "outputs": []
    },
    {
      "cell_type": "code",
      "source": [
        "# 판다스를 토치로 변환\n",
        "pandas_series = pd.Series([0.1,2.0,0.3,10.1])\n",
        "pandas_to_torch = torch.from_numpy(pandas_series.values)"
      ],
      "metadata": {
        "id": "abYiNcsuHHyX"
      },
      "execution_count": 12,
      "outputs": []
    },
    {
      "cell_type": "code",
      "source": [
        "# 텐서를 리스트로 변환\n",
        "this_tensor = torch.tensor([0,1,2,3])\n",
        "torch_to_list = this_tensor.tolist()\n",
        "print(torch_to_list)"
      ],
      "metadata": {
        "colab": {
          "base_uri": "https://localhost:8080/"
        },
        "id": "KdPyzXUgKjQS",
        "outputId": "4ace4d1b-8069-4624-faa6-953161c6614b"
      },
      "execution_count": 16,
      "outputs": [
        {
          "output_type": "stream",
          "name": "stdout",
          "text": [
            "[0, 1, 2, 3]\n"
          ]
        }
      ]
    },
    {
      "cell_type": "code",
      "source": [
        "new_tensor = torch.tensor([5,2,6,1])\n",
        "new_tensor[0]\n",
        "new_tensor[1]\n",
        "new_tensor[0].item()"
      ],
      "metadata": {
        "colab": {
          "base_uri": "https://localhost:8080/"
        },
        "id": "ZqFC-4S2LNKX",
        "outputId": "83a76694-adec-4dbf-add6-37c4b6e6c6ed"
      },
      "execution_count": 20,
      "outputs": [
        {
          "output_type": "execute_result",
          "data": {
            "text/plain": [
              "5"
            ]
          },
          "metadata": {},
          "execution_count": 20
        }
      ]
    },
    {
      "cell_type": "code",
      "source": [
        "# 인덱싱 & 슬라이싱\n",
        "c = torch.tensor([20,1,2,3,4])\n",
        "print(c)\n",
        "\n",
        "c[0] = 100\n",
        "print(c)\n",
        "\n",
        "c[4] = 0\n",
        "print(c)\n",
        "\n",
        "d=c[1:4]\n",
        "print(d)\n",
        "\n",
        "c[3:5] = torch.tensor([300.0,400.0])\n",
        "print(c)"
      ],
      "metadata": {
        "colab": {
          "base_uri": "https://localhost:8080/"
        },
        "id": "ZERBPgMOLzlv",
        "outputId": "62d027fc-0606-4646-a6b6-4b65529ea2b6"
      },
      "execution_count": 31,
      "outputs": [
        {
          "output_type": "stream",
          "name": "stdout",
          "text": [
            "tensor([20,  1,  2,  3,  4])\n",
            "tensor([100,   1,   2,   3,   4])\n",
            "tensor([100,   1,   2,   3,   0])\n",
            "tensor([1, 2, 3])\n",
            "tensor([100,   1,   2, 300, 400])\n"
          ]
        }
      ]
    },
    {
      "cell_type": "code",
      "source": [
        "c[3:5] = torch.tensor([300.0,400.0])"
      ],
      "metadata": {
        "id": "ZVyvvyOtL1sM"
      },
      "execution_count": 33,
      "outputs": []
    },
    {
      "cell_type": "code",
      "source": [
        "# python operation\n",
        "u = torch.tensor([1.0,0.0])\n",
        "v = torch.tensor([0.0,1.0])\n",
        "\n",
        "z = u+v\n",
        "print(z)\n",
        "\n",
        "y = torch.tensor([1,2])\n",
        "z = 2*y\n",
        "print(z)\n",
        "\n",
        "w = torch.tensor([1,2])\n",
        "v = torch.tensor([3,2])\n",
        "z = w*v\n",
        "print(z)\n",
        "\n",
        "u = torch.tensor([1,2])\n",
        "v = torch.tensor([3,1])\n",
        "result = torch.dot(u,v)\n",
        "print(result) # result : 5\n",
        "\n",
        "u = torch.tensor([1,2,3,-1])\n",
        "z = u+1\n",
        "print(z)\n",
        "\n",
        "#a = torch.tensor([1,-1,1,-1])\n",
        "#mean_a = a.mean()\n",
        "#print(mean_a)\n",
        "\n",
        "\n",
        "b = torch.tensor([1,-2,3,4,5])\n",
        "max_b = b.max()\n",
        "print(max_b)"
      ],
      "metadata": {
        "colab": {
          "base_uri": "https://localhost:8080/"
        },
        "id": "shHSdTiPa6nA",
        "outputId": "e715a801-19c6-446c-b0c9-e912e005ff6c"
      },
      "execution_count": 49,
      "outputs": [
        {
          "output_type": "stream",
          "name": "stdout",
          "text": [
            "tensor([1., 1.])\n",
            "tensor([2, 4])\n",
            "tensor([3, 4])\n",
            "tensor(5)\n",
            "tensor([2, 3, 4, 0])\n",
            "tensor(5)\n"
          ]
        }
      ]
    },
    {
      "cell_type": "code",
      "source": [
        "np.pi\n",
        "x = torch.tensor([0,np.pi/2,np.pi])\n",
        "y = torch.sin(x)\n",
        "print(y)"
      ],
      "metadata": {
        "colab": {
          "base_uri": "https://localhost:8080/"
        },
        "id": "K-0NSsl-mj9v",
        "outputId": "e8b223fa-c7a2-4a93-9f77-e04d642533a9"
      },
      "execution_count": 52,
      "outputs": [
        {
          "output_type": "stream",
          "name": "stdout",
          "text": [
            "tensor([ 0.0000e+00,  1.0000e+00, -8.7423e-08])\n"
          ]
        }
      ]
    },
    {
      "cell_type": "code",
      "source": [
        "torch.linspace(-2,2,steps=5)"
      ],
      "metadata": {
        "colab": {
          "base_uri": "https://localhost:8080/"
        },
        "id": "l4i9y-nAmnDd",
        "outputId": "ca045732-035f-47ea-eced-3b6e3e922ae9"
      },
      "execution_count": 58,
      "outputs": [
        {
          "output_type": "execute_result",
          "data": {
            "text/plain": [
              "tensor([-2., -1.,  0.,  1.,  2.])"
            ]
          },
          "metadata": {},
          "execution_count": 58
        }
      ]
    },
    {
      "cell_type": "code",
      "source": [
        "x = torch.linspace(0,2*np.pi,100)\n",
        "y = torch.sin(x)\n",
        "print(y)"
      ],
      "metadata": {
        "colab": {
          "base_uri": "https://localhost:8080/"
        },
        "id": "KiwfmRXMnrq-",
        "outputId": "498e0f01-1fa6-4224-d101-5ff4b5a98996"
      },
      "execution_count": 62,
      "outputs": [
        {
          "output_type": "stream",
          "name": "stdout",
          "text": [
            "tensor([ 0.0000e+00,  6.3424e-02,  1.2659e-01,  1.8925e-01,  2.5115e-01,\n",
            "         3.1203e-01,  3.7166e-01,  4.2979e-01,  4.8620e-01,  5.4064e-01,\n",
            "         5.9291e-01,  6.4279e-01,  6.9008e-01,  7.3459e-01,  7.7615e-01,\n",
            "         8.1458e-01,  8.4973e-01,  8.8145e-01,  9.0963e-01,  9.3415e-01,\n",
            "         9.5490e-01,  9.7181e-01,  9.8481e-01,  9.9384e-01,  9.9887e-01,\n",
            "         9.9987e-01,  9.9685e-01,  9.8982e-01,  9.7880e-01,  9.6384e-01,\n",
            "         9.4500e-01,  9.2235e-01,  8.9599e-01,  8.6603e-01,  8.3257e-01,\n",
            "         7.9576e-01,  7.5575e-01,  7.1269e-01,  6.6677e-01,  6.1816e-01,\n",
            "         5.6706e-01,  5.1368e-01,  4.5823e-01,  4.0093e-01,  3.4202e-01,\n",
            "         2.8173e-01,  2.2031e-01,  1.5800e-01,  9.5056e-02,  3.1728e-02,\n",
            "        -3.1728e-02, -9.5056e-02, -1.5800e-01, -2.2031e-01, -2.8173e-01,\n",
            "        -3.4202e-01, -4.0093e-01, -4.5823e-01, -5.1368e-01, -5.6706e-01,\n",
            "        -6.1816e-01, -6.6677e-01, -7.1269e-01, -7.5575e-01, -7.9576e-01,\n",
            "        -8.3257e-01, -8.6603e-01, -8.9599e-01, -9.2235e-01, -9.4500e-01,\n",
            "        -9.6384e-01, -9.7880e-01, -9.8982e-01, -9.9685e-01, -9.9987e-01,\n",
            "        -9.9887e-01, -9.9384e-01, -9.8481e-01, -9.7181e-01, -9.5490e-01,\n",
            "        -9.3415e-01, -9.0963e-01, -8.8145e-01, -8.4973e-01, -8.1458e-01,\n",
            "        -7.7615e-01, -7.3459e-01, -6.9008e-01, -6.4279e-01, -5.9291e-01,\n",
            "        -5.4064e-01, -4.8620e-01, -4.2979e-01, -3.7166e-01, -3.1203e-01,\n",
            "        -2.5115e-01, -1.8925e-01, -1.2659e-01, -6.3424e-02,  1.7485e-07])\n"
          ]
        }
      ]
    },
    {
      "cell_type": "code",
      "source": [
        "import matplotlib.pyplot as plt\n",
        "%matplotlib inline\n",
        "plt.plot(x.numpy(),y.numpy())"
      ],
      "metadata": {
        "colab": {
          "base_uri": "https://localhost:8080/",
          "height": 283
        },
        "id": "oGQ6L28WoB2w",
        "outputId": "a070e63e-fea6-4801-b4c4-a5922e7c8702"
      },
      "execution_count": 64,
      "outputs": [
        {
          "output_type": "execute_result",
          "data": {
            "text/plain": [
              "[<matplotlib.lines.Line2D at 0x7f99eb835e50>]"
            ]
          },
          "metadata": {},
          "execution_count": 64
        },
        {
          "output_type": "display_data",
          "data": {
            "text/plain": [
              "<Figure size 432x288 with 1 Axes>"
            ],
            "image/png": "[encoded data removed]"
          },
          "metadata": {
            "needs_background": "light"
          }
        }
      ]
    }
  ]
}