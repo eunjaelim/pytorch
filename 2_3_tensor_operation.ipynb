{
  "nbformat": 4,
  "nbformat_minor": 0,
  "metadata": {
    "colab": {
      "provenance": [],
      "authorship_tag": "ABX9TyM81OfOu01Us/lTZe9mPDxF",
      "include_colab_link": true
    },
    "kernelspec": {
      "name": "python3",
      "display_name": "Python 3"
    },
    "language_info": {
      "name": "python"
    }
  },
  "cells": [
    {
      "cell_type": "markdown",
      "metadata": {
        "id": "view-in-github",
        "colab_type": "text"
      },
      "source": [
        "<a href=\"https://colab.research.google.com/github/eunjaelim/pytorch/blob/master/2_3_tensor_operation.ipynb\" target=\"_parent\"><img src=\"https://colab.research.google.com/assets/colab-badge.svg\" alt=\"Open In Colab\"/></a>"
      ]
    },
    {
      "cell_type": "code",
      "execution_count": 5,
      "metadata": {
        "id": "Z0mHM96-eLoK"
      },
      "outputs": [],
      "source": [
        "import torch"
      ]
    },
    {
      "cell_type": "code",
      "source": [
        "m1 = torch.FloatTensor([[3,3]])\n",
        "m2 = torch.FloatTensor([[2,2]])"
      ],
      "metadata": {
        "id": "uRDwCylIeRyw"
      },
      "execution_count": 6,
      "outputs": []
    },
    {
      "cell_type": "code",
      "source": [
        "print(m1+m2)"
      ],
      "metadata": {
        "colab": {
          "base_uri": "https://localhost:8080/"
        },
        "id": "UioEdxxpegZZ",
        "outputId": "9dbe45ac-fcb9-47c9-fdae-63da517c377a"
      },
      "execution_count": 7,
      "outputs": [
        {
          "output_type": "stream",
          "name": "stdout",
          "text": [
            "tensor([[5., 5.]])\n"
          ]
        }
      ]
    },
    {
      "cell_type": "code",
      "source": [
        "m3 = torch.FloatTensor([1,2])\n",
        "m4 = torch.FloatTensor([3])"
      ],
      "metadata": {
        "id": "u51rA65gt_gQ"
      },
      "execution_count": 9,
      "outputs": []
    },
    {
      "cell_type": "code",
      "source": [
        "print([[4,5]])"
      ],
      "metadata": {
        "colab": {
          "base_uri": "https://localhost:8080/"
        },
        "id": "MUqZLpzoveiX",
        "outputId": "74c9e6ad-8f20-427c-8608-c3e75cb16a5c"
      },
      "execution_count": 11,
      "outputs": [
        {
          "output_type": "stream",
          "name": "stdout",
          "text": [
            "[[4, 5]]\n"
          ]
        }
      ]
    },
    {
      "cell_type": "code",
      "source": [
        "m5 = torch.FloatTensor([[1,2]])\n",
        "m6 = torch.FloatTensor(([3],[4]))"
      ],
      "metadata": {
        "id": "Tl9ikF7SwACQ"
      },
      "execution_count": 14,
      "outputs": []
    },
    {
      "cell_type": "code",
      "source": [
        "# 덧셈\n",
        "m5+m6"
      ],
      "metadata": {
        "colab": {
          "base_uri": "https://localhost:8080/"
        },
        "id": "_C9rzZRbwMoS",
        "outputId": "f0b75ad1-8343-4030-a511-ca05677c9dc0"
      },
      "execution_count": 20,
      "outputs": [
        {
          "output_type": "execute_result",
          "data": {
            "text/plain": [
              "tensor([[4., 5.],\n",
              "        [5., 6.]])"
            ]
          },
          "metadata": {},
          "execution_count": 20
        }
      ]
    },
    {
      "cell_type": "code",
      "source": [
        "print(m5.shape,m6.shape)"
      ],
      "metadata": {
        "colab": {
          "base_uri": "https://localhost:8080/"
        },
        "id": "7c9HPitvws1E",
        "outputId": "a452432c-7af0-47c5-f111-b0fe3cf48ae5"
      },
      "execution_count": 21,
      "outputs": [
        {
          "output_type": "stream",
          "name": "stdout",
          "text": [
            "torch.Size([1, 2]) torch.Size([2, 1])\n"
          ]
        }
      ]
    },
    {
      "cell_type": "code",
      "source": [
        " #곱셈\n",
        "print(torch.mm(m5,m6))"
      ],
      "metadata": {
        "colab": {
          "base_uri": "https://localhost:8080/"
        },
        "id": "Ht1OfSfQx2uk",
        "outputId": "8cee0de6-d063-4540-d1fa-93a4772cdeec"
      },
      "execution_count": 23,
      "outputs": [
        {
          "output_type": "stream",
          "name": "stdout",
          "text": [
            "tensor([[11.]])\n"
          ]
        }
      ]
    },
    {
      "cell_type": "code",
      "source": [
        "print(m5.matmul(m6))"
      ],
      "metadata": {
        "colab": {
          "base_uri": "https://localhost:8080/"
        },
        "id": "R2S4YldqykJc",
        "outputId": "bc4bc81b-4a51-4ed3-dd89-7d217bbbe1f8"
      },
      "execution_count": 24,
      "outputs": [
        {
          "output_type": "stream",
          "name": "stdout",
          "text": [
            "tensor([[11.]])\n"
          ]
        }
      ]
    },
    {
      "cell_type": "code",
      "source": [
        "print(torch.matmul(m5,m6))"
      ],
      "metadata": {
        "colab": {
          "base_uri": "https://localhost:8080/"
        },
        "id": "sylwdS53y8uR",
        "outputId": "9b9bd896-717e-4d96-8b45-a58ce2883680"
      },
      "execution_count": 26,
      "outputs": [
        {
          "output_type": "stream",
          "name": "stdout",
          "text": [
            "tensor([[11.]])\n"
          ]
        }
      ]
    },
    {
      "cell_type": "code",
      "source": [
        "# 요소곱\n",
        "print(m5.mul(m6))"
      ],
      "metadata": {
        "colab": {
          "base_uri": "https://localhost:8080/"
        },
        "id": "Z1K0YfLgzEKL",
        "outputId": "b0fd23ab-c40c-4e73-c61e-e795782bbfb0"
      },
      "execution_count": 28,
      "outputs": [
        {
          "output_type": "stream",
          "name": "stdout",
          "text": [
            "tensor([[3., 6.],\n",
            "        [4., 8.]])\n"
          ]
        }
      ]
    },
    {
      "cell_type": "code",
      "source": [
        "print(torch.mul(m5,m6))\n",
        "print(m5 * m6)"
      ],
      "metadata": {
        "colab": {
          "base_uri": "https://localhost:8080/"
        },
        "id": "olZlPS-W26YH",
        "outputId": "8f7de6ea-56ed-4afa-bf02-82fef51a19fb"
      },
      "execution_count": 30,
      "outputs": [
        {
          "output_type": "stream",
          "name": "stdout",
          "text": [
            "tensor([[3., 6.],\n",
            "        [4., 8.]])\n",
            "tensor([[3., 6.],\n",
            "        [4., 8.]])\n"
          ]
        }
      ]
    },
    {
      "cell_type": "code",
      "source": [
        "t = torch.FloatTensor([1,2])\n",
        "print(t.mean())"
      ],
      "metadata": {
        "colab": {
          "base_uri": "https://localhost:8080/"
        },
        "id": "ZW9DmtxY3LLz",
        "outputId": "57ce40fe-ad68-40af-f0e1-e653a7dd8f3b"
      },
      "execution_count": 31,
      "outputs": [
        {
          "output_type": "stream",
          "name": "stdout",
          "text": [
            "tensor(1.5000)\n"
          ]
        }
      ]
    },
    {
      "cell_type": "code",
      "source": [
        "t=torch.FloatTensor([[1,2],[3,4]])\n",
        "print(t.mean())"
      ],
      "metadata": {
        "colab": {
          "base_uri": "https://localhost:8080/"
        },
        "id": "xrU2ggIOB0Xf",
        "outputId": "7eda3501-04f1-47ca-ff2c-a717d2c61e78"
      },
      "execution_count": 32,
      "outputs": [
        {
          "output_type": "stream",
          "name": "stdout",
          "text": [
            "tensor(2.5000)\n"
          ]
        }
      ]
    },
    {
      "cell_type": "code",
      "source": [
        "print(t.mean(dim=0))"
      ],
      "metadata": {
        "colab": {
          "base_uri": "https://localhost:8080/"
        },
        "id": "ZXLEweq6DzaM",
        "outputId": "84578d5b-ba69-40fc-f137-8aa59d353050"
      },
      "execution_count": 33,
      "outputs": [
        {
          "output_type": "stream",
          "name": "stdout",
          "text": [
            "tensor([2., 3.])\n"
          ]
        }
      ]
    },
    {
      "cell_type": "code",
      "source": [
        "print(t.mean(dim=1))"
      ],
      "metadata": {
        "colab": {
          "base_uri": "https://localhost:8080/"
        },
        "id": "0IQNfKkKD73A",
        "outputId": "5fb7d6ba-c8f3-4afd-8c46-ca225ab75295"
      },
      "execution_count": 34,
      "outputs": [
        {
          "output_type": "stream",
          "name": "stdout",
          "text": [
            "tensor([1.5000, 3.5000])\n"
          ]
        }
      ]
    },
    {
      "cell_type": "code",
      "source": [
        "print(t.sum(dim=0))"
      ],
      "metadata": {
        "colab": {
          "base_uri": "https://localhost:8080/"
        },
        "id": "TREKY_sbEH2W",
        "outputId": "d0ae10e4-37be-4e27-96d4-a71bcda3eb20"
      },
      "execution_count": 35,
      "outputs": [
        {
          "output_type": "stream",
          "name": "stdout",
          "text": [
            "tensor([4., 6.])\n"
          ]
        }
      ]
    },
    {
      "cell_type": "code",
      "source": [
        "# 최대값\n",
        "t = torch.FloatTensor([[1,2],[3,4]])\n",
        "m = t.max() "
      ],
      "metadata": {
        "id": "Ek61pE1LEUfl"
      },
      "execution_count": 36,
      "outputs": []
    },
    {
      "cell_type": "code",
      "source": [
        "print(m)"
      ],
      "metadata": {
        "colab": {
          "base_uri": "https://localhost:8080/"
        },
        "id": "LC6X5lpaIOVp",
        "outputId": "10db2a3c-951d-45c0-ddb7-c7312a5ffdbd"
      },
      "execution_count": 37,
      "outputs": [
        {
          "output_type": "stream",
          "name": "stdout",
          "text": [
            "tensor(4.)\n"
          ]
        }
      ]
    },
    {
      "cell_type": "code",
      "source": [
        "print(t.max(dim=0)) # 열에 대한 최대값"
      ],
      "metadata": {
        "colab": {
          "base_uri": "https://localhost:8080/"
        },
        "id": "TL9FpLKSIQGm",
        "outputId": "b3f1f41c-0481-4871-e5e9-acb6158fc6b9"
      },
      "execution_count": 38,
      "outputs": [
        {
          "output_type": "stream",
          "name": "stdout",
          "text": [
            "torch.return_types.max(\n",
            "values=tensor([3., 4.]),\n",
            "indices=tensor([1, 1]))\n"
          ]
        }
      ]
    },
    {
      "cell_type": "code",
      "source": [
        "print(t.max(dim=0)[0]) # 값만 출력"
      ],
      "metadata": {
        "colab": {
          "base_uri": "https://localhost:8080/"
        },
        "id": "Ao7onbIRIgQW",
        "outputId": "86ea1018-dbf1-48e4-b1bb-054cbb5d296f"
      },
      "execution_count": 39,
      "outputs": [
        {
          "output_type": "stream",
          "name": "stdout",
          "text": [
            "tensor([3., 4.])\n"
          ]
        }
      ]
    },
    {
      "cell_type": "code",
      "source": [
        "print(t.max(dim=0)[1]) # 인덱스만 출력"
      ],
      "metadata": {
        "colab": {
          "base_uri": "https://localhost:8080/"
        },
        "id": "pl-CGETAI3cM",
        "outputId": "b20f838c-d237-4172-a7e2-7e9e2b7ede54"
      },
      "execution_count": 40,
      "outputs": [
        {
          "output_type": "stream",
          "name": "stdout",
          "text": [
            "tensor([1, 1])\n"
          ]
        }
      ]
    },
    {
      "cell_type": "code",
      "source": [
        "t = torch.randn(2,2,3)\n",
        "print(t)\n",
        "print(t.shape)  # 12개 요소"
      ],
      "metadata": {
        "colab": {
          "base_uri": "https://localhost:8080/"
        },
        "id": "OHvQG1qcJC0w",
        "outputId": "7b40c1e6-2e99-4472-c3ac-83234802f5c9"
      },
      "execution_count": 42,
      "outputs": [
        {
          "output_type": "stream",
          "name": "stdout",
          "text": [
            "tensor([[[ 0.2107, -1.1526, -0.6443],\n",
            "         [-0.8916, -1.8968, -0.8235]],\n",
            "\n",
            "        [[ 1.6979,  0.5829, -0.3853],\n",
            "         [-0.0314,  0.9235, -0.5212]]])\n",
            "torch.Size([2, 2, 3])\n"
          ]
        }
      ]
    },
    {
      "cell_type": "code",
      "source": [
        "print(t.reshape([4,3]))  # 요소의 수가 같아야 함."
      ],
      "metadata": {
        "colab": {
          "base_uri": "https://localhost:8080/"
        },
        "id": "DBKx2WYIMHoT",
        "outputId": "f6d4df06-07b1-47f8-d75f-7b7752cb24d8"
      },
      "execution_count": 43,
      "outputs": [
        {
          "output_type": "stream",
          "name": "stdout",
          "text": [
            "tensor([[ 0.2107, -1.1526, -0.6443],\n",
            "        [-0.8916, -1.8968, -0.8235],\n",
            "        [ 1.6979,  0.5829, -0.3853],\n",
            "        [-0.0314,  0.9235, -0.5212]])\n"
          ]
        }
      ]
    },
    {
      "cell_type": "code",
      "source": [
        "print(t.reshape([6,2]))"
      ],
      "metadata": {
        "colab": {
          "base_uri": "https://localhost:8080/"
        },
        "id": "TAMsM8UZMySe",
        "outputId": "6f39ad03-d4c3-4c1a-c6c7-09a3ce30f2b4"
      },
      "execution_count": 44,
      "outputs": [
        {
          "output_type": "stream",
          "name": "stdout",
          "text": [
            "tensor([[ 0.2107, -1.1526],\n",
            "        [-0.6443, -0.8916],\n",
            "        [-1.8968, -0.8235],\n",
            "        [ 1.6979,  0.5829],\n",
            "        [-0.3853, -0.0314],\n",
            "        [ 0.9235, -0.5212]])\n"
          ]
        }
      ]
    },
    {
      "cell_type": "code",
      "source": [
        "print(t.view([3,4]))"
      ],
      "metadata": {
        "colab": {
          "base_uri": "https://localhost:8080/"
        },
        "id": "MENaubaiNDj9",
        "outputId": "36d50103-108a-4337-81e1-df09931cb92c"
      },
      "execution_count": 45,
      "outputs": [
        {
          "output_type": "stream",
          "name": "stdout",
          "text": [
            "tensor([[ 0.2107, -1.1526, -0.6443, -0.8916],\n",
            "        [-1.8968, -0.8235,  1.6979,  0.5829],\n",
            "        [-0.3853, -0.0314,  0.9235, -0.5212]])\n"
          ]
        }
      ]
    },
    {
      "cell_type": "code",
      "source": [
        "print(t.shape)"
      ],
      "metadata": {
        "colab": {
          "base_uri": "https://localhost:8080/"
        },
        "id": "_19hZjpnNN2f",
        "outputId": "076558bf-2d74-4aaa-f29d-a19e29359ec7"
      },
      "execution_count": 46,
      "outputs": [
        {
          "output_type": "stream",
          "name": "stdout",
          "text": [
            "torch.Size([2, 2, 3])\n"
          ]
        }
      ]
    },
    {
      "cell_type": "code",
      "source": [
        "print(t.transpose(0,2))"
      ],
      "metadata": {
        "colab": {
          "base_uri": "https://localhost:8080/"
        },
        "id": "ELXPeA8YNSL4",
        "outputId": "af72f2d1-a4a4-4397-f78f-44305d10fd9e"
      },
      "execution_count": 47,
      "outputs": [
        {
          "output_type": "stream",
          "name": "stdout",
          "text": [
            "tensor([[[ 0.2107,  1.6979],\n",
            "         [-0.8916, -0.0314]],\n",
            "\n",
            "        [[-1.1526,  0.5829],\n",
            "         [-1.8968,  0.9235]],\n",
            "\n",
            "        [[-0.6443, -0.3853],\n",
            "         [-0.8235, -0.5212]]])\n"
          ]
        }
      ]
    },
    {
      "cell_type": "code",
      "source": [
        "print(t.shape)"
      ],
      "metadata": {
        "colab": {
          "base_uri": "https://localhost:8080/"
        },
        "id": "zvm8l1EQNglp",
        "outputId": "7f99a2d7-301d-48d4-a1d4-cd90f186e199"
      },
      "execution_count": 48,
      "outputs": [
        {
          "output_type": "stream",
          "name": "stdout",
          "text": [
            "torch.Size([2, 2, 3])\n"
          ]
        }
      ]
    },
    {
      "cell_type": "code",
      "source": [
        "t_n = t.permute(2,0,1) \n",
        "t_n.shape"
      ],
      "metadata": {
        "colab": {
          "base_uri": "https://localhost:8080/"
        },
        "id": "C7x4ntOsNmjF",
        "outputId": "b02da9a8-db6b-4da6-d2f6-0fdda989731d"
      },
      "execution_count": 53,
      "outputs": [
        {
          "output_type": "execute_result",
          "data": {
            "text/plain": [
              "torch.Size([3, 2, 2])"
            ]
          },
          "metadata": {},
          "execution_count": 53
        }
      ]
    },
    {
      "cell_type": "code",
      "source": [
        "t_n=t.unsqueeze(1) #축 생성\n"
      ],
      "metadata": {
        "id": "3UIy52VKNz29"
      },
      "execution_count": 57,
      "outputs": []
    },
    {
      "cell_type": "code",
      "source": [
        "print(t_n.shape)"
      ],
      "metadata": {
        "colab": {
          "base_uri": "https://localhost:8080/"
        },
        "id": "5rLcGhd7ORdx",
        "outputId": "26340f58-b9d9-401e-8956-2b8c2d5c6b9a"
      },
      "execution_count": 58,
      "outputs": [
        {
          "output_type": "stream",
          "name": "stdout",
          "text": [
            "torch.Size([2, 1, 2, 3])\n"
          ]
        }
      ]
    },
    {
      "cell_type": "code",
      "source": [
        "print(t_n)"
      ],
      "metadata": {
        "colab": {
          "base_uri": "https://localhost:8080/"
        },
        "id": "8P6gHwuOOvsy",
        "outputId": "3b3dc842-19c7-4aa0-c220-ccdec34e41a8"
      },
      "execution_count": 59,
      "outputs": [
        {
          "output_type": "stream",
          "name": "stdout",
          "text": [
            "tensor([[[[ 0.2107, -1.1526, -0.6443],\n",
            "          [-0.8916, -1.8968, -0.8235]]],\n",
            "\n",
            "\n",
            "        [[[ 1.6979,  0.5829, -0.3853],\n",
            "          [-0.0314,  0.9235, -0.5212]]]])\n"
          ]
        }
      ]
    },
    {
      "cell_type": "code",
      "source": [
        "t_nn = t_n.squeeze()\n",
        "print(t_nn.shape)"
      ],
      "metadata": {
        "colab": {
          "base_uri": "https://localhost:8080/"
        },
        "id": "4Dqz2PwpPD8a",
        "outputId": "ec894ea9-d378-4a43-814c-eb2f4e84c133"
      },
      "execution_count": 61,
      "outputs": [
        {
          "output_type": "stream",
          "name": "stdout",
          "text": [
            "torch.Size([2, 2, 3])\n"
          ]
        }
      ]
    },
    {
      "cell_type": "code",
      "source": [],
      "metadata": {
        "id": "C0fPiNOxPQS5"
      },
      "execution_count": null,
      "outputs": []
    }
  ]
}